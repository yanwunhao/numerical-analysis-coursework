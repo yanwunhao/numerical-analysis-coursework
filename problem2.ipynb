{
 "cells": [
  {
   "cell_type": "code",
   "execution_count": 5,
   "metadata": {},
   "outputs": [
    {
     "name": "stdout",
     "output_type": "stream",
     "text": [
      "Solved V:\n",
      " [[   0.         1200.         1200.         ... 1200.\n",
      "  1200.            0.        ]\n",
      " [   0.          600.          837.17950762 ...  837.17950762\n",
      "   600.            0.        ]\n",
      " [   0.          362.82049238  600.         ...  600.\n",
      "   362.82049238    0.        ]\n",
      " ...\n",
      " [   0.          362.82049238  600.         ...  600.\n",
      "   362.82049238    0.        ]\n",
      " [   0.          600.          837.17950762 ...  837.17950762\n",
      "   600.            0.        ]\n",
      " [   0.         1200.         1200.         ... 1200.\n",
      "  1200.            0.        ]]\n"
     ]
    },
    {
     "data": {
      "image/png": "[encoded data removed]",
      "text/plain": [
       "<Figure size 640x480 with 1 Axes>"
      ]
     },
     "metadata": {},
     "output_type": "display_data"
    },
    {
     "data": {
      "text/plain": [
       "<Figure size 640x480 with 0 Axes>"
      ]
     },
     "metadata": {},
     "output_type": "display_data"
    }
   ],
   "source": [
    "import numpy as np\n",
    "import scipy.sparse as sp\n",
    "import scipy.sparse.linalg as spla\n",
    "\n",
    "# Parameters\n",
    "epsilon = 2\n",
    "V_boundary = 1200\n",
    "V_base = 0\n",
    "grid_size = (50, 50)\n",
    "\n",
    "# Create grid\n",
    "nx, ny = grid_size\n",
    "dx = 1.0 / (nx - 1)\n",
    "dy = 1.0 / (ny - 1)\n",
    "\n",
    "# Create finite element matrix and vector\n",
    "A = sp.lil_matrix((nx * ny, nx * ny))\n",
    "b = np.zeros(nx * ny)\n",
    "\n",
    "# Apply boundary conditions function\n",
    "def boundary_conditions(A, b, V_boundary, V_base, nx, ny):\n",
    "    for i in range(nx):\n",
    "        for j in range(ny):\n",
    "            if i == 0 or i == nx - 1 or j == 0 or j == ny - 1:\n",
    "                k = i + j * nx\n",
    "                A[k, :] = 0\n",
    "                A[k, k] = 1\n",
    "                if i == 0 or i == nx - 1:\n",
    "                    b[k] = V_base\n",
    "                else:\n",
    "                    b[k] = V_boundary\n",
    "    return A, b\n",
    "\n",
    "# Build finite element system\n",
    "for i in range(1, nx - 1):\n",
    "    for j in range(1, ny - 1):\n",
    "        k = i + j * nx\n",
    "        A[k, k] = -4\n",
    "        A[k, k - 1] = 1\n",
    "        A[k, k + 1] = 1\n",
    "        A[k, k - nx] = 1\n",
    "        A[k, k + nx] = 1\n",
    "\n",
    "# Apply boundary conditions\n",
    "A, b = boundary_conditions(A, b, V_boundary, V_base, nx, ny)\n",
    "\n",
    "# Solve system\n",
    "A = A.tocsc()\n",
    "V = spla.spsolve(A, b)\n",
    "\n",
    "# Reshape solution vector into 2D matrix\n",
    "V = V.reshape((ny, nx))\n",
    "\n",
    "print(\"Solved V:\\n\", V)\n",
    "\n",
    "import matplotlib.pyplot as plt\n",
    "\n",
    "plt.imshow(V, cmap='hot', interpolation='nearest')\n",
    "plt.savefig(\"heatmap.jpg\")\n",
    "\n",
    "plt.show()\n",
    "\n"
   ]
  }
 ],
 "metadata": {
  "kernelspec": {
   "display_name": "torch2_env",
   "language": "python",
   "name": "python3"
  },
  "language_info": {
   "codemirror_mode": {
    "name": "ipython",
    "version": 3
   },
   "file_extension": ".py",
   "mimetype": "text/x-python",
   "name": "python",
   "nbconvert_exporter": "python",
   "pygments_lexer": "ipython3",
   "version": "3.8.17"
  }
 },
 "nbformat": 4,
 "nbformat_minor": 2
}
